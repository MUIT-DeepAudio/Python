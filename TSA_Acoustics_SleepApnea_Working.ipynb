{
 "cells": [
  {
   "cell_type": "markdown",
   "metadata": {},
   "source": [
    "# <font color= #900c3f >MUIT - TSA 2018</font>\n",
    "## Some simple Acoustic Analysis of Speech from Sleep Apnea Patients\n",
    "\n",
    "### some references:\n",
    "\n",
    "- #### [Formant Frequencies and Bandwidths in Relation to Clinical Variables in an Obstructive Sleep Apnea Population](https://www.sciencedirect.com/science/article/pii/S0892199715000077)\n",
    "- #### [Obstructive Sleep Apnea in Women: Study of Speech and Craniofacial Characteristics](http://https://www.ncbi.nlm.nih.gov/pmc/articles/PMC5696580/)\n",
    "\n"
   ]
  },
  {
   "cell_type": "markdown",
   "metadata": {},
   "source": [
    "===================================================================\n",
    "## Extracting data: $Formants$ from sustained vowel /i/\n",
    "<br>\n",
    "\n",
    "- ### UPLOAD: OSA_Excel.zip file from [TSA GitHub](http://https://github.com/MUIT-TSA/Python) "
   ]
  },
  {
   "cell_type": "code",
   "execution_count": null,
   "metadata": {
    "collapsed": false
   },
   "outputs": [
    {
     "name": "stdout",
     "output_type": "stream",
     "text": [
      "Archive:  /resources/data/audio/OSA/OSA_Excel.zip\n",
      "replace /resources/data/audio/OSA/OSA_1.xls? [y]es, [n]o, [A]ll, [N]one, [r]ename: "
     ]
    }
   ],
   "source": [
    "! unzip /resources/data/audio/OSA/OSA_Excel.zip -d /resources/data/audio/OSA/"
   ]
  },
  {
   "cell_type": "markdown",
   "metadata": {},
   "source": [
    "### <font color=  #dc7633  >Now we will use Pandas DataFrames to read and analyze data</font>"
   ]
  },
  {
   "cell_type": "code",
   "execution_count": null,
   "metadata": {
    "collapsed": true
   },
   "outputs": [],
   "source": [
    "import pandas as pd "
   ]
  },
  {
   "cell_type": "code",
   "execution_count": null,
   "metadata": {
    "collapsed": false
   },
   "outputs": [],
   "source": [
    "! pip install xlrd"
   ]
  },
  {
   "cell_type": "markdown",
   "metadata": {},
   "source": [
    "### ... read only one file..."
   ]
  },
  {
   "cell_type": "code",
   "execution_count": null,
   "metadata": {
    "collapsed": false
   },
   "outputs": [],
   "source": [
    "file = '/resources/data/audio/OSA/OSA_18.xls'\n",
    "df1 = pd.read_excel(file,sheetname='Sheet1')"
   ]
  },
  {
   "cell_type": "code",
   "execution_count": null,
   "metadata": {
    "collapsed": false
   },
   "outputs": [],
   "source": [
    "df1"
   ]
  },
  {
   "cell_type": "markdown",
   "metadata": {},
   "source": [
    "### ... then read all files and concatenate DataFrames"
   ]
  },
  {
   "cell_type": "code",
   "execution_count": null,
   "metadata": {
    "collapsed": false
   },
   "outputs": [],
   "source": [
    "## Get a list with all xls files in /resources/data/audio/OSA/\n",
    "\n",
    "import os\n",
    "\n",
    "exPath='/resources/data/audio/OSA/'\n",
    "fileList=os.listdir(exPath)\n"
   ]
  },
  {
   "cell_type": "code",
   "execution_count": null,
   "metadata": {
    "collapsed": false
   },
   "outputs": [],
   "source": [
    "len(fileList)"
   ]
  },
  {
   "cell_type": "markdown",
   "metadata": {},
   "source": [
    "### ... read all the files in the list\n",
    "### and concatenate all dataframes into a df_OSA dataframe"
   ]
  },
  {
   "cell_type": "code",
   "execution_count": null,
   "metadata": {
    "collapsed": false
   },
   "outputs": [],
   "source": [
    "df_OSA=pd.DataFrame()  # an empty DataFrame\n",
    "\n",
    "for exFile in fileList:\n",
    "    if exFile.endswith('.xls'):\n",
    "        df = pd.read_excel(exPath+exFile,sheetname='Sheet1')\n",
    "        df_OSA=pd.concat([df_OSA,df], axis=0)"
   ]
  },
  {
   "cell_type": "code",
   "execution_count": null,
   "metadata": {
    "collapsed": false
   },
   "outputs": [],
   "source": [
    "df_OSA.info()"
   ]
  },
  {
   "cell_type": "code",
   "execution_count": null,
   "metadata": {
    "collapsed": false
   },
   "outputs": [],
   "source": [
    "df_OSA['F2'][0:10]"
   ]
  },
  {
   "cell_type": "code",
   "execution_count": null,
   "metadata": {
    "collapsed": false
   },
   "outputs": [],
   "source": [
    "df_OSA.head(5)"
   ]
  },
  {
   "cell_type": "code",
   "execution_count": null,
   "metadata": {
    "collapsed": false
   },
   "outputs": [],
   "source": [
    "df_OSA.iloc[1:3]"
   ]
  },
  {
   "cell_type": "markdown",
   "metadata": {},
   "source": [
    "### ... unique"
   ]
  },
  {
   "cell_type": "code",
   "execution_count": null,
   "metadata": {
    "collapsed": false
   },
   "outputs": [],
   "source": [
    "Gender_categories=pd.unique(df_OSA['Gender'])\n",
    "print('Gender categories : ',Gender_categories)"
   ]
  },
  {
   "cell_type": "markdown",
   "metadata": {},
   "source": [
    "### ...simple stats..."
   ]
  },
  {
   "cell_type": "code",
   "execution_count": null,
   "metadata": {
    "collapsed": false
   },
   "outputs": [],
   "source": [
    "df_OSA['F1'].mean()"
   ]
  },
  {
   "cell_type": "code",
   "execution_count": null,
   "metadata": {
    "collapsed": false
   },
   "outputs": [],
   "source": [
    "df_OSA.describe()"
   ]
  },
  {
   "cell_type": "markdown",
   "metadata": {},
   "source": [
    "## $Groupby$\n",
    "### ... analyze data by category or group"
   ]
  },
  {
   "cell_type": "code",
   "execution_count": null,
   "metadata": {
    "collapsed": false
   },
   "outputs": [],
   "source": [
    "df_OSA.groupby('Gender').describe()"
   ]
  },
  {
   "cell_type": "code",
   "execution_count": null,
   "metadata": {
    "collapsed": false
   },
   "outputs": [],
   "source": [
    "F1=df_OSA['F1']\n",
    "F2=df_OSA['F2']"
   ]
  },
  {
   "cell_type": "code",
   "execution_count": null,
   "metadata": {
    "collapsed": false
   },
   "outputs": [],
   "source": [
    "type(F1)"
   ]
  },
  {
   "cell_type": "code",
   "execution_count": null,
   "metadata": {
    "collapsed": false
   },
   "outputs": [],
   "source": [
    "# convert F1 and F2 to arrays...\n",
    "\n",
    "import numpy as np\n",
    "\n",
    "F1=np.array(F1)\n",
    "F2=np.array(F2)"
   ]
  },
  {
   "cell_type": "code",
   "execution_count": null,
   "metadata": {
    "collapsed": false
   },
   "outputs": [],
   "source": [
    "type(F1)"
   ]
  },
  {
   "cell_type": "markdown",
   "metadata": {},
   "source": [
    "# MATPLOTLIB\n",
    "\n",
    "### [Matplotlib](https://matplotlib.org/#) is a Python 2D plotting library which produces publication quality figures in a variety of hardcopy formats and interactive environments across platforms\n",
    "\n",
    "<img src=\"https://matplotlib.org/_static/logo2.png\">"
   ]
  },
  {
   "cell_type": "code",
   "execution_count": null,
   "metadata": {
    "collapsed": false
   },
   "outputs": [],
   "source": [
    "import matplotlib.pyplot as plt\n",
    "%matplotlib inline"
   ]
  },
  {
   "cell_type": "code",
   "execution_count": null,
   "metadata": {
    "collapsed": false
   },
   "outputs": [],
   "source": [
    "# Scatter plot\n",
    "plt.figure(figsize=(9,6))\n",
    "plt.scatter(F1,F2)\n",
    "plt.xlabel('F1',fontsize=18)\n",
    "plt.ylabel('F2',fontsize=18)\n",
    "plt.title('First and Second Formantas in OSA Patientes',fontsize=18)\n",
    "plt.grid(color='k', linestyle='--')"
   ]
  },
  {
   "cell_type": "code",
   "execution_count": null,
   "metadata": {
    "collapsed": false
   },
   "outputs": [],
   "source": [
    "import matplotlib.pylab as pylab\n",
    "\n",
    "pylab.rcParams['figure.figsize']=14,12\n",
    "\n",
    "df_OSA['logAHI']=np.log(df_OSA['AHI']+1)\n",
    "\n",
    "figure=pd.tools.plotting.scatter_matrix(df_OSA)\n",
    "\n",
    "Corr_matrix=df_OSA.corr()"
   ]
  },
  {
   "cell_type": "code",
   "execution_count": 26,
   "metadata": {
    "collapsed": false
   },
   "outputs": [
    {
     "data": {
      "text/html": [
       "<div>\n",
       "<table border=\"1\" class=\"dataframe\">\n",
       "  <thead>\n",
       "    <tr style=\"text-align: right;\">\n",
       "      <th></th>\n",
       "      <th>Gender</th>\n",
       "      <th>F1</th>\n",
       "      <th>F2</th>\n",
       "      <th>F3</th>\n",
       "      <th>age</th>\n",
       "      <th>height</th>\n",
       "      <th>weight</th>\n",
       "      <th>cervper</th>\n",
       "      <th>AHI</th>\n",
       "      <th>logAHI</th>\n",
       "    </tr>\n",
       "  </thead>\n",
       "  <tbody>\n",
       "    <tr>\n",
       "      <th>Gender</th>\n",
       "      <td>1.000000</td>\n",
       "      <td>0.674369</td>\n",
       "      <td>0.808553</td>\n",
       "      <td>0.766990</td>\n",
       "      <td>0.180988</td>\n",
       "      <td>-0.745747</td>\n",
       "      <td>-0.381738</td>\n",
       "      <td>-0.673181</td>\n",
       "      <td>-0.195652</td>\n",
       "      <td>-0.231785</td>\n",
       "    </tr>\n",
       "    <tr>\n",
       "      <th>F1</th>\n",
       "      <td>0.674369</td>\n",
       "      <td>1.000000</td>\n",
       "      <td>0.551874</td>\n",
       "      <td>0.543594</td>\n",
       "      <td>0.158547</td>\n",
       "      <td>-0.550602</td>\n",
       "      <td>-0.316091</td>\n",
       "      <td>-0.498241</td>\n",
       "      <td>-0.066469</td>\n",
       "      <td>-0.095096</td>\n",
       "    </tr>\n",
       "    <tr>\n",
       "      <th>F2</th>\n",
       "      <td>0.808553</td>\n",
       "      <td>0.551874</td>\n",
       "      <td>1.000000</td>\n",
       "      <td>0.831283</td>\n",
       "      <td>0.096365</td>\n",
       "      <td>-0.705537</td>\n",
       "      <td>-0.391327</td>\n",
       "      <td>-0.606713</td>\n",
       "      <td>-0.275134</td>\n",
       "      <td>-0.266446</td>\n",
       "    </tr>\n",
       "    <tr>\n",
       "      <th>F3</th>\n",
       "      <td>0.766990</td>\n",
       "      <td>0.543594</td>\n",
       "      <td>0.831283</td>\n",
       "      <td>1.000000</td>\n",
       "      <td>0.095002</td>\n",
       "      <td>-0.628157</td>\n",
       "      <td>-0.323657</td>\n",
       "      <td>-0.577970</td>\n",
       "      <td>-0.219677</td>\n",
       "      <td>-0.253628</td>\n",
       "    </tr>\n",
       "    <tr>\n",
       "      <th>age</th>\n",
       "      <td>0.180988</td>\n",
       "      <td>0.158547</td>\n",
       "      <td>0.096365</td>\n",
       "      <td>0.095002</td>\n",
       "      <td>1.000000</td>\n",
       "      <td>-0.383982</td>\n",
       "      <td>-0.135300</td>\n",
       "      <td>0.084769</td>\n",
       "      <td>0.117151</td>\n",
       "      <td>0.206456</td>\n",
       "    </tr>\n",
       "    <tr>\n",
       "      <th>height</th>\n",
       "      <td>-0.745747</td>\n",
       "      <td>-0.550602</td>\n",
       "      <td>-0.705537</td>\n",
       "      <td>-0.628157</td>\n",
       "      <td>-0.383982</td>\n",
       "      <td>1.000000</td>\n",
       "      <td>0.399327</td>\n",
       "      <td>0.489564</td>\n",
       "      <td>0.067964</td>\n",
       "      <td>0.031462</td>\n",
       "    </tr>\n",
       "    <tr>\n",
       "      <th>weight</th>\n",
       "      <td>-0.381738</td>\n",
       "      <td>-0.316091</td>\n",
       "      <td>-0.391327</td>\n",
       "      <td>-0.323657</td>\n",
       "      <td>-0.135300</td>\n",
       "      <td>0.399327</td>\n",
       "      <td>1.000000</td>\n",
       "      <td>0.689657</td>\n",
       "      <td>0.364809</td>\n",
       "      <td>0.294792</td>\n",
       "    </tr>\n",
       "    <tr>\n",
       "      <th>cervper</th>\n",
       "      <td>-0.673181</td>\n",
       "      <td>-0.498241</td>\n",
       "      <td>-0.606713</td>\n",
       "      <td>-0.577970</td>\n",
       "      <td>0.084769</td>\n",
       "      <td>0.489564</td>\n",
       "      <td>0.689657</td>\n",
       "      <td>1.000000</td>\n",
       "      <td>0.414359</td>\n",
       "      <td>0.378732</td>\n",
       "    </tr>\n",
       "    <tr>\n",
       "      <th>AHI</th>\n",
       "      <td>-0.195652</td>\n",
       "      <td>-0.066469</td>\n",
       "      <td>-0.275134</td>\n",
       "      <td>-0.219677</td>\n",
       "      <td>0.117151</td>\n",
       "      <td>0.067964</td>\n",
       "      <td>0.364809</td>\n",
       "      <td>0.414359</td>\n",
       "      <td>1.000000</td>\n",
       "      <td>0.868440</td>\n",
       "    </tr>\n",
       "    <tr>\n",
       "      <th>logAHI</th>\n",
       "      <td>-0.231785</td>\n",
       "      <td>-0.095096</td>\n",
       "      <td>-0.266446</td>\n",
       "      <td>-0.253628</td>\n",
       "      <td>0.206456</td>\n",
       "      <td>0.031462</td>\n",
       "      <td>0.294792</td>\n",
       "      <td>0.378732</td>\n",
       "      <td>0.868440</td>\n",
       "      <td>1.000000</td>\n",
       "    </tr>\n",
       "  </tbody>\n",
       "</table>\n",
       "</div>"
      ],
      "text/plain": [
       "           Gender        F1        F2        F3       age    height    weight  \\\n",
       "Gender   1.000000  0.674369  0.808553  0.766990  0.180988 -0.745747 -0.381738   \n",
       "F1       0.674369  1.000000  0.551874  0.543594  0.158547 -0.550602 -0.316091   \n",
       "F2       0.808553  0.551874  1.000000  0.831283  0.096365 -0.705537 -0.391327   \n",
       "F3       0.766990  0.543594  0.831283  1.000000  0.095002 -0.628157 -0.323657   \n",
       "age      0.180988  0.158547  0.096365  0.095002  1.000000 -0.383982 -0.135300   \n",
       "height  -0.745747 -0.550602 -0.705537 -0.628157 -0.383982  1.000000  0.399327   \n",
       "weight  -0.381738 -0.316091 -0.391327 -0.323657 -0.135300  0.399327  1.000000   \n",
       "cervper -0.673181 -0.498241 -0.606713 -0.577970  0.084769  0.489564  0.689657   \n",
       "AHI     -0.195652 -0.066469 -0.275134 -0.219677  0.117151  0.067964  0.364809   \n",
       "logAHI  -0.231785 -0.095096 -0.266446 -0.253628  0.206456  0.031462  0.294792   \n",
       "\n",
       "          cervper       AHI    logAHI  \n",
       "Gender  -0.673181 -0.195652 -0.231785  \n",
       "F1      -0.498241 -0.066469 -0.095096  \n",
       "F2      -0.606713 -0.275134 -0.266446  \n",
       "F3      -0.577970 -0.219677 -0.253628  \n",
       "age      0.084769  0.117151  0.206456  \n",
       "height   0.489564  0.067964  0.031462  \n",
       "weight   0.689657  0.364809  0.294792  \n",
       "cervper  1.000000  0.414359  0.378732  \n",
       "AHI      0.414359  1.000000  0.868440  \n",
       "logAHI   0.378732  0.868440  1.000000  "
      ]
     },
     "execution_count": 26,
     "metadata": {},
     "output_type": "execute_result"
    }
   ],
   "source": [
    "\n",
    "Corr_matrix=df_OSA.corr()\n",
    "Corr_matrix"
   ]
  },
  {
   "cell_type": "code",
   "execution_count": null,
   "metadata": {
    "collapsed": true
   },
   "outputs": [],
   "source": [
    "import seaborn as sns\n",
    "\n",
    "sns.heatmap(Corr_matrix)"
   ]
  },
  {
   "cell_type": "markdown",
   "metadata": {},
   "source": [
    "## Fitting a linear regression model"
   ]
  },
  {
   "cell_type": "markdown",
   "metadata": {},
   "source": [
    "### We will use [Scikit-Learn](http://scikit-learn.org/) Machine Learning in Python\n",
    "\n",
    "<img src=http://scikit-learn.org/stable/_static/scikit-learn-logo-small.png>"
   ]
  },
  {
   "cell_type": "markdown",
   "metadata": {},
   "source": [
    "### Choosing predictors and target"
   ]
  },
  {
   "cell_type": "code",
   "execution_count": null,
   "metadata": {
    "collapsed": true
   },
   "outputs": [],
   "source": [
    "columns=\n",
    "\n",
    "target="
   ]
  },
  {
   "cell_type": "markdown",
   "metadata": {},
   "source": [
    "## Splitting train and test sets"
   ]
  },
  {
   "cell_type": "code",
   "execution_count": null,
   "metadata": {
    "collapsed": true
   },
   "outputs": [],
   "source": []
  },
  {
   "cell_type": "markdown",
   "metadata": {},
   "source": [
    "# Fitting a linear regression model:"
   ]
  },
  {
   "cell_type": "code",
   "execution_count": null,
   "metadata": {
    "collapsed": true
   },
   "outputs": [],
   "source": []
  },
  {
   "cell_type": "markdown",
   "metadata": {},
   "source": [
    "## Predicting..."
   ]
  },
  {
   "cell_type": "code",
   "execution_count": null,
   "metadata": {
    "collapsed": true
   },
   "outputs": [],
   "source": []
  },
  {
   "cell_type": "code",
   "execution_count": null,
   "metadata": {
    "collapsed": true
   },
   "outputs": [],
   "source": []
  }
 ],
 "metadata": {
  "kernelspec": {
   "display_name": "Python 3",
   "language": "python",
   "name": "python3"
  },
  "language_info": {
   "codemirror_mode": {
    "name": "ipython",
    "version": 3
   },
   "file_extension": ".py",
   "mimetype": "text/x-python",
   "name": "python",
   "nbconvert_exporter": "python",
   "pygments_lexer": "ipython3",
   "version": "3.5.2"
  },
  "widgets": {
   "state": {},
   "version": "1.1.2"
  }
 },
 "nbformat": 4,
 "nbformat_minor": 0
}
