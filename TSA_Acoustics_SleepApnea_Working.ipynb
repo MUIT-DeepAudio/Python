{
 "cells": [
  {
   "cell_type": "markdown",
   "metadata": {},
   "source": [
    "# <font color= #900c3f >MUIT - TSA 2018</font>\n",
    "## Some simple Acoustic Analysis of Speech from Sleep Apnea Patients\n",
    "\n",
    "### some references:\n",
    "\n",
    "- #### [Formant Frequencies and Bandwidths in Relation to Clinical Variables in an Obstructive Sleep Apnea Population](https://www.sciencedirect.com/science/article/pii/S0892199715000077)\n",
    "- #### [Obstructive Sleep Apnea in Women: Study of Speech and Craniofacial Characteristics](http://https://www.ncbi.nlm.nih.gov/pmc/articles/PMC5696580/)\n",
    "\n"
   ]
  },
  {
   "cell_type": "markdown",
   "metadata": {},
   "source": [
    "===================================================================\n",
    "## Extracting data: $Formants$ from sustained vowel /i/\n",
    "<br>\n",
    "\n",
    "- ### UPLOAD: OSA_Excel.zip file from [TSA GitHub](http://https://github.com/MUIT-TSA/Python) "
   ]
  },
  {
   "cell_type": "code",
   "execution_count": 1,
   "metadata": {
    "collapsed": false
   },
   "outputs": [
    {
     "name": "stdout",
     "output_type": "stream",
     "text": [
      "Archive:  /resources/data/audio/OSA/OSA_Excel.zip\n",
      "  inflating: /resources/data/audio/OSA/OSA_1.xls  \n",
      "  inflating: /resources/data/audio/OSA/OSA_10.xls  \n",
      "  inflating: /resources/data/audio/OSA/OSA_100.xls  \n",
      "  inflating: /resources/data/audio/OSA/OSA_11.xls  \n",
      "  inflating: /resources/data/audio/OSA/OSA_12.xls  \n",
      "  inflating: /resources/data/audio/OSA/OSA_13.xls  \n",
      "  inflating: /resources/data/audio/OSA/OSA_14.xls  \n",
      "  inflating: /resources/data/audio/OSA/OSA_15.xls  \n",
      "  inflating: /resources/data/audio/OSA/OSA_16.xls  \n",
      "  inflating: /resources/data/audio/OSA/OSA_17.xls  \n",
      "  inflating: /resources/data/audio/OSA/OSA_18.xls  \n",
      "  inflating: /resources/data/audio/OSA/OSA_19.xls  \n",
      "  inflating: /resources/data/audio/OSA/OSA_2.xls  \n",
      "  inflating: /resources/data/audio/OSA/OSA_20.xls  \n",
      "  inflating: /resources/data/audio/OSA/OSA_21.xls  \n",
      "  inflating: /resources/data/audio/OSA/OSA_22.xls  \n",
      "  inflating: /resources/data/audio/OSA/OSA_23.xls  \n",
      "  inflating: /resources/data/audio/OSA/OSA_24.xls  \n",
      "  inflating: /resources/data/audio/OSA/OSA_25.xls  \n",
      "  inflating: /resources/data/audio/OSA/OSA_26.xls  \n",
      "  inflating: /resources/data/audio/OSA/OSA_27.xls  \n",
      "  inflating: /resources/data/audio/OSA/OSA_28.xls  \n",
      "  inflating: /resources/data/audio/OSA/OSA_29.xls  \n",
      "  inflating: /resources/data/audio/OSA/OSA_3.xls  \n",
      "  inflating: /resources/data/audio/OSA/OSA_30.xls  \n",
      "  inflating: /resources/data/audio/OSA/OSA_31.xls  \n",
      "  inflating: /resources/data/audio/OSA/OSA_32.xls  \n",
      "  inflating: /resources/data/audio/OSA/OSA_33.xls  \n",
      "  inflating: /resources/data/audio/OSA/OSA_34.xls  \n",
      "  inflating: /resources/data/audio/OSA/OSA_35.xls  \n",
      "  inflating: /resources/data/audio/OSA/OSA_36.xls  \n",
      "  inflating: /resources/data/audio/OSA/OSA_37.xls  \n",
      "  inflating: /resources/data/audio/OSA/OSA_38.xls  \n",
      "  inflating: /resources/data/audio/OSA/OSA_39.xls  \n",
      "  inflating: /resources/data/audio/OSA/OSA_4.xls  \n",
      "  inflating: /resources/data/audio/OSA/OSA_40.xls  \n",
      "  inflating: /resources/data/audio/OSA/OSA_41.xls  \n",
      "  inflating: /resources/data/audio/OSA/OSA_42.xls  \n",
      "  inflating: /resources/data/audio/OSA/OSA_43.xls  \n",
      "  inflating: /resources/data/audio/OSA/OSA_44.xls  \n",
      "  inflating: /resources/data/audio/OSA/OSA_45.xls  \n",
      "  inflating: /resources/data/audio/OSA/OSA_46.xls  \n",
      "  inflating: /resources/data/audio/OSA/OSA_47.xls  \n",
      "  inflating: /resources/data/audio/OSA/OSA_48.xls  \n",
      "  inflating: /resources/data/audio/OSA/OSA_49.xls  \n",
      "  inflating: /resources/data/audio/OSA/OSA_5.xls  \n",
      "  inflating: /resources/data/audio/OSA/OSA_50.xls  \n",
      "  inflating: /resources/data/audio/OSA/OSA_51.xls  \n",
      "  inflating: /resources/data/audio/OSA/OSA_52.xls  \n",
      "  inflating: /resources/data/audio/OSA/OSA_53.xls  \n",
      "  inflating: /resources/data/audio/OSA/OSA_54.xls  \n",
      "  inflating: /resources/data/audio/OSA/OSA_55.xls  \n",
      "  inflating: /resources/data/audio/OSA/OSA_56.xls  \n",
      "  inflating: /resources/data/audio/OSA/OSA_57.xls  \n",
      "  inflating: /resources/data/audio/OSA/OSA_58.xls  \n",
      "  inflating: /resources/data/audio/OSA/OSA_59.xls  \n",
      "  inflating: /resources/data/audio/OSA/OSA_6.xls  \n",
      "  inflating: /resources/data/audio/OSA/OSA_60.xls  \n",
      "  inflating: /resources/data/audio/OSA/OSA_61.xls  \n",
      "  inflating: /resources/data/audio/OSA/OSA_62.xls  \n",
      "  inflating: /resources/data/audio/OSA/OSA_63.xls  \n",
      "  inflating: /resources/data/audio/OSA/OSA_64.xls  \n",
      "  inflating: /resources/data/audio/OSA/OSA_65.xls  \n",
      "  inflating: /resources/data/audio/OSA/OSA_66.xls  \n",
      "  inflating: /resources/data/audio/OSA/OSA_67.xls  \n",
      "  inflating: /resources/data/audio/OSA/OSA_68.xls  \n",
      "  inflating: /resources/data/audio/OSA/OSA_69.xls  \n",
      "  inflating: /resources/data/audio/OSA/OSA_7.xls  \n",
      "  inflating: /resources/data/audio/OSA/OSA_70.xls  \n",
      "  inflating: /resources/data/audio/OSA/OSA_71.xls  \n",
      "  inflating: /resources/data/audio/OSA/OSA_72.xls  \n",
      "  inflating: /resources/data/audio/OSA/OSA_73.xls  \n",
      "  inflating: /resources/data/audio/OSA/OSA_74.xls  \n",
      "  inflating: /resources/data/audio/OSA/OSA_75.xls  \n",
      "  inflating: /resources/data/audio/OSA/OSA_76.xls  \n",
      "  inflating: /resources/data/audio/OSA/OSA_77.xls  \n",
      "  inflating: /resources/data/audio/OSA/OSA_78.xls  \n",
      "  inflating: /resources/data/audio/OSA/OSA_79.xls  \n",
      "  inflating: /resources/data/audio/OSA/OSA_8.xls  \n",
      "  inflating: /resources/data/audio/OSA/OSA_80.xls  \n",
      "  inflating: /resources/data/audio/OSA/OSA_81.xls  \n",
      "  inflating: /resources/data/audio/OSA/OSA_82.xls  \n",
      "  inflating: /resources/data/audio/OSA/OSA_83.xls  \n",
      "  inflating: /resources/data/audio/OSA/OSA_84.xls  \n",
      "  inflating: /resources/data/audio/OSA/OSA_85.xls  \n",
      "  inflating: /resources/data/audio/OSA/OSA_86.xls  \n",
      "  inflating: /resources/data/audio/OSA/OSA_87.xls  \n",
      "  inflating: /resources/data/audio/OSA/OSA_88.xls  \n",
      "  inflating: /resources/data/audio/OSA/OSA_89.xls  \n",
      "  inflating: /resources/data/audio/OSA/OSA_9.xls  \n",
      "  inflating: /resources/data/audio/OSA/OSA_90.xls  \n",
      "  inflating: /resources/data/audio/OSA/OSA_91.xls  \n",
      "  inflating: /resources/data/audio/OSA/OSA_92.xls  \n",
      "  inflating: /resources/data/audio/OSA/OSA_93.xls  \n",
      "  inflating: /resources/data/audio/OSA/OSA_94.xls  \n",
      "  inflating: /resources/data/audio/OSA/OSA_95.xls  \n",
      "  inflating: /resources/data/audio/OSA/OSA_96.xls  \n",
      "  inflating: /resources/data/audio/OSA/OSA_97.xls  \n",
      "  inflating: /resources/data/audio/OSA/OSA_98.xls  \n",
      "  inflating: /resources/data/audio/OSA/OSA_99.xls  \n",
      "  inflating: /resources/data/audio/OSA/OSA_101.xls  \n",
      "  inflating: /resources/data/audio/OSA/OSA_102.xls  \n",
      "  inflating: /resources/data/audio/OSA/OSA_103.xls  \n",
      "  inflating: /resources/data/audio/OSA/OSA_104.xls  \n",
      "  inflating: /resources/data/audio/OSA/OSA_105.xls  \n",
      "  inflating: /resources/data/audio/OSA/OSA_106.xls  \n",
      "  inflating: /resources/data/audio/OSA/OSA_107.xls  \n",
      "  inflating: /resources/data/audio/OSA/OSA_108.xls  \n",
      "  inflating: /resources/data/audio/OSA/OSA_109.xls  \n",
      "  inflating: /resources/data/audio/OSA/OSA_110.xls  \n",
      "  inflating: /resources/data/audio/OSA/OSA_111.xls  \n",
      "  inflating: /resources/data/audio/OSA/OSA_112.xls  \n",
      "  inflating: /resources/data/audio/OSA/OSA_113.xls  \n",
      "  inflating: /resources/data/audio/OSA/OSA_114.xls  \n",
      "  inflating: /resources/data/audio/OSA/OSA_115.xls  \n",
      "  inflating: /resources/data/audio/OSA/OSA_116.xls  \n",
      "  inflating: /resources/data/audio/OSA/OSA_117.xls  \n",
      "  inflating: /resources/data/audio/OSA/OSA_118.xls  \n",
      "  inflating: /resources/data/audio/OSA/OSA_119.xls  \n",
      "  inflating: /resources/data/audio/OSA/OSA_120.xls  \n",
      "  inflating: /resources/data/audio/OSA/OSA_121.xls  \n",
      "  inflating: /resources/data/audio/OSA/OSA_122.xls  \n",
      "  inflating: /resources/data/audio/OSA/OSA_123.xls  \n",
      "  inflating: /resources/data/audio/OSA/OSA_124.xls  \n",
      "  inflating: /resources/data/audio/OSA/OSA_125.xls  \n",
      "  inflating: /resources/data/audio/OSA/OSA_126.xls  \n",
      "  inflating: /resources/data/audio/OSA/OSA_127.xls  \n",
      "  inflating: /resources/data/audio/OSA/OSA_128.xls  \n",
      "  inflating: /resources/data/audio/OSA/OSA_129.xls  \n",
      "  inflating: /resources/data/audio/OSA/OSA_130.xls  \n",
      "  inflating: /resources/data/audio/OSA/OSA_131.xls  \n",
      "  inflating: /resources/data/audio/OSA/OSA_132.xls  \n",
      "  inflating: /resources/data/audio/OSA/OSA_133.xls  \n",
      "  inflating: /resources/data/audio/OSA/OSA_134.xls  \n",
      "  inflating: /resources/data/audio/OSA/OSA_135.xls  \n",
      "  inflating: /resources/data/audio/OSA/OSA_136.xls  \n",
      "  inflating: /resources/data/audio/OSA/OSA_137.xls  \n",
      "  inflating: /resources/data/audio/OSA/OSA_138.xls  \n",
      "  inflating: /resources/data/audio/OSA/OSA_139.xls  \n",
      "  inflating: /resources/data/audio/OSA/OSA_140.xls  \n",
      "  inflating: /resources/data/audio/OSA/OSA_141.xls  \n",
      "  inflating: /resources/data/audio/OSA/OSA_142.xls  \n",
      "  inflating: /resources/data/audio/OSA/OSA_143.xls  \n",
      "  inflating: /resources/data/audio/OSA/OSA_144.xls  \n",
      "  inflating: /resources/data/audio/OSA/OSA_145.xls  \n",
      "  inflating: /resources/data/audio/OSA/OSA_146.xls  \n",
      "  inflating: /resources/data/audio/OSA/OSA_147.xls  \n",
      "  inflating: /resources/data/audio/OSA/OSA_148.xls  \n",
      "  inflating: /resources/data/audio/OSA/OSA_149.xls  \n",
      "  inflating: /resources/data/audio/OSA/OSA_150.xls  \n",
      "  inflating: /resources/data/audio/OSA/OSA_151.xls  \n",
      "  inflating: /resources/data/audio/OSA/OSA_152.xls  \n",
      "  inflating: /resources/data/audio/OSA/OSA_153.xls  \n",
      "  inflating: /resources/data/audio/OSA/OSA_154.xls  \n",
      "  inflating: /resources/data/audio/OSA/OSA_155.xls  \n",
      "  inflating: /resources/data/audio/OSA/OSA_156.xls  \n",
      "  inflating: /resources/data/audio/OSA/OSA_157.xls  \n",
      "  inflating: /resources/data/audio/OSA/OSA_158.xls  \n",
      "  inflating: /resources/data/audio/OSA/OSA_159.xls  \n",
      "  inflating: /resources/data/audio/OSA/OSA_160.xls  \n",
      "  inflating: /resources/data/audio/OSA/OSA_161.xls  \n",
      "  inflating: /resources/data/audio/OSA/OSA_162.xls  \n",
      "  inflating: /resources/data/audio/OSA/OSA_163.xls  \n",
      "  inflating: /resources/data/audio/OSA/OSA_164.xls  \n",
      "  inflating: /resources/data/audio/OSA/OSA_165.xls  \n",
      "  inflating: /resources/data/audio/OSA/OSA_166.xls  \n",
      "  inflating: /resources/data/audio/OSA/OSA_167.xls  \n",
      "  inflating: /resources/data/audio/OSA/OSA_168.xls  \n",
      "  inflating: /resources/data/audio/OSA/OSA_169.xls  \n",
      "  inflating: /resources/data/audio/OSA/OSA_170.xls  \n",
      "  inflating: /resources/data/audio/OSA/OSA_171.xls  \n",
      "  inflating: /resources/data/audio/OSA/OSA_172.xls  \n",
      "  inflating: /resources/data/audio/OSA/OSA_173.xls  \n",
      "  inflating: /resources/data/audio/OSA/OSA_174.xls  \n",
      "  inflating: /resources/data/audio/OSA/OSA_175.xls  \n",
      "  inflating: /resources/data/audio/OSA/OSA_176.xls  \n",
      "  inflating: /resources/data/audio/OSA/OSA_177.xls  \n",
      "  inflating: /resources/data/audio/OSA/OSA_178.xls  \n",
      "  inflating: /resources/data/audio/OSA/OSA_179.xls  \n",
      "  inflating: /resources/data/audio/OSA/OSA_180.xls  \n",
      "  inflating: /resources/data/audio/OSA/OSA_181.xls  \n",
      "  inflating: /resources/data/audio/OSA/OSA_182.xls  \n",
      "  inflating: /resources/data/audio/OSA/OSA_183.xls  \n",
      "  inflating: /resources/data/audio/OSA/OSA_184.xls  \n",
      "  inflating: /resources/data/audio/OSA/OSA_185.xls  \n",
      "  inflating: /resources/data/audio/OSA/OSA_186.xls  \n",
      "  inflating: /resources/data/audio/OSA/OSA_187.xls  \n",
      "  inflating: /resources/data/audio/OSA/OSA_188.xls  \n",
      "  inflating: /resources/data/audio/OSA/OSA_189.xls  \n",
      "  inflating: /resources/data/audio/OSA/OSA_190.xls  \n",
      "  inflating: /resources/data/audio/OSA/OSA_191.xls  \n",
      "  inflating: /resources/data/audio/OSA/OSA_192.xls  \n",
      "  inflating: /resources/data/audio/OSA/OSA_193.xls  \n",
      "  inflating: /resources/data/audio/OSA/OSA_194.xls  \n",
      "  inflating: /resources/data/audio/OSA/OSA_195.xls  \n",
      "  inflating: /resources/data/audio/OSA/OSA_196.xls  \n",
      "  inflating: /resources/data/audio/OSA/OSA_197.xls  \n",
      "  inflating: /resources/data/audio/OSA/OSA_198.xls  \n",
      "  inflating: /resources/data/audio/OSA/OSA_199.xls  \n",
      "  inflating: /resources/data/audio/OSA/OSA_200.xls  \n"
     ]
    }
   ],
   "source": [
    "! unzip /resources/data/audio/OSA/OSA_Excel.zip -d /resources/data/audio/OSA/"
   ]
  },
  {
   "cell_type": "markdown",
   "metadata": {},
   "source": [
    "### <font color=  #dc7633  >Now we will use Pandas DataFrames to read and analyze data</font>"
   ]
  },
  {
   "cell_type": "code",
   "execution_count": 2,
   "metadata": {
    "collapsed": true
   },
   "outputs": [],
   "source": [
    "import pandas as pd "
   ]
  },
  {
   "cell_type": "code",
   "execution_count": 3,
   "metadata": {
    "collapsed": false
   },
   "outputs": [
    {
     "name": "stdout",
     "output_type": "stream",
     "text": [
      "Requirement already satisfied: xlrd in ./common/.virtualenv/python3/lib/python3.5/site-packages\r\n"
     ]
    }
   ],
   "source": [
    "! pip install xlrd"
   ]
  },
  {
   "cell_type": "markdown",
   "metadata": {},
   "source": [
    "### ... read only one file..."
   ]
  },
  {
   "cell_type": "code",
   "execution_count": 4,
   "metadata": {
    "collapsed": false
   },
   "outputs": [],
   "source": [
    "file = '/resources/data/audio/OSA/OSA_18.xls'\n",
    "df1 = pd.read_excel(file,sheetname='Sheet1')"
   ]
  },
  {
   "cell_type": "code",
   "execution_count": 5,
   "metadata": {
    "collapsed": false
   },
   "outputs": [
    {
     "data": {
      "text/html": [
       "<div>\n",
       "<table border=\"1\" class=\"dataframe\">\n",
       "  <thead>\n",
       "    <tr style=\"text-align: right;\">\n",
       "      <th></th>\n",
       "      <th>Gender</th>\n",
       "      <th>F1</th>\n",
       "      <th>F2</th>\n",
       "      <th>F3</th>\n",
       "      <th>age</th>\n",
       "      <th>height</th>\n",
       "      <th>weight</th>\n",
       "      <th>cervper</th>\n",
       "      <th>AHI</th>\n",
       "    </tr>\n",
       "  </thead>\n",
       "  <tbody>\n",
       "    <tr>\n",
       "      <th>0</th>\n",
       "      <td>1</td>\n",
       "      <td>330.697369</td>\n",
       "      <td>2712.571259</td>\n",
       "      <td>3340.181125</td>\n",
       "      <td>51</td>\n",
       "      <td>158</td>\n",
       "      <td>74</td>\n",
       "      <td>35</td>\n",
       "      <td>2.5</td>\n",
       "    </tr>\n",
       "  </tbody>\n",
       "</table>\n",
       "</div>"
      ],
      "text/plain": [
       "   Gender          F1           F2           F3  age  height  weight  cervper  \\\n",
       "0       1  330.697369  2712.571259  3340.181125   51     158      74       35   \n",
       "\n",
       "   AHI  \n",
       "0  2.5  "
      ]
     },
     "execution_count": 5,
     "metadata": {},
     "output_type": "execute_result"
    }
   ],
   "source": [
    "df1"
   ]
  },
  {
   "cell_type": "markdown",
   "metadata": {},
   "source": [
    "### ... then read all files and concatenate DataFrames"
   ]
  },
  {
   "cell_type": "code",
   "execution_count": 6,
   "metadata": {
    "collapsed": false
   },
   "outputs": [],
   "source": [
    "## Get a list with all xls files in /resources/data/audio/OSA/\n",
    "\n",
    "import os\n",
    "\n",
    "exPath='/resources/data/audio/OSA/'\n",
    "fileList=os.listdir(exPath)\n"
   ]
  },
  {
   "cell_type": "code",
   "execution_count": 7,
   "metadata": {
    "collapsed": false
   },
   "outputs": [
    {
     "data": {
      "text/plain": [
       "201"
      ]
     },
     "execution_count": 7,
     "metadata": {},
     "output_type": "execute_result"
    }
   ],
   "source": [
    "len(fileList)"
   ]
  },
  {
   "cell_type": "markdown",
   "metadata": {},
   "source": [
    "### ... read all the files in the list\n",
    "### and concatenate all dataframes into a df_OSA dataframe"
   ]
  },
  {
   "cell_type": "code",
   "execution_count": 8,
   "metadata": {
    "collapsed": false
   },
   "outputs": [],
   "source": [
    "df_OSA=pd.DataFrame()  # an empty DataFrame\n",
    "\n",
    "for exFile in fileList:\n",
    "    if exFile.endswith('.xls'):\n",
    "        df = pd.read_excel(exPath+exFile,sheetname='Sheet1')\n",
    "        df_OSA=pd.concat([df_OSA,df], axis=0)"
   ]
  },
  {
   "cell_type": "code",
   "execution_count": 9,
   "metadata": {
    "collapsed": false
   },
   "outputs": [
    {
     "name": "stdout",
     "output_type": "stream",
     "text": [
      "<class 'pandas.core.frame.DataFrame'>\n",
      "Int64Index: 200 entries, 0 to 0\n",
      "Data columns (total 9 columns):\n",
      "Gender     200 non-null int64\n",
      "F1         200 non-null float64\n",
      "F2         200 non-null float64\n",
      "F3         200 non-null float64\n",
      "age        200 non-null int64\n",
      "height     200 non-null int64\n",
      "weight     200 non-null int64\n",
      "cervper    200 non-null float64\n",
      "AHI        200 non-null float64\n",
      "dtypes: float64(5), int64(4)\n",
      "memory usage: 15.6 KB\n"
     ]
    }
   ],
   "source": [
    "df_OSA.info()"
   ]
  },
  {
   "cell_type": "code",
   "execution_count": 10,
   "metadata": {
    "collapsed": false
   },
   "outputs": [
    {
     "data": {
      "text/plain": [
       "0    2412.706798\n",
       "0    2336.225824\n",
       "0    2025.760431\n",
       "0    2062.385388\n",
       "0    2593.818208\n",
       "0    2179.000000\n",
       "0    1959.751986\n",
       "0    2528.731360\n",
       "0    2382.988394\n",
       "0    2047.200136\n",
       "Name: F2, dtype: float64"
      ]
     },
     "execution_count": 10,
     "metadata": {},
     "output_type": "execute_result"
    }
   ],
   "source": [
    "df_OSA['F2'][0:10]"
   ]
  },
  {
   "cell_type": "code",
   "execution_count": 11,
   "metadata": {
    "collapsed": false
   },
   "outputs": [
    {
     "data": {
      "text/html": [
       "<div>\n",
       "<table border=\"1\" class=\"dataframe\">\n",
       "  <thead>\n",
       "    <tr style=\"text-align: right;\">\n",
       "      <th></th>\n",
       "      <th>Gender</th>\n",
       "      <th>F1</th>\n",
       "      <th>F2</th>\n",
       "      <th>F3</th>\n",
       "      <th>age</th>\n",
       "      <th>height</th>\n",
       "      <th>weight</th>\n",
       "      <th>cervper</th>\n",
       "      <th>AHI</th>\n",
       "    </tr>\n",
       "  </thead>\n",
       "  <tbody>\n",
       "    <tr>\n",
       "      <th>0</th>\n",
       "      <td>0</td>\n",
       "      <td>262.987463</td>\n",
       "      <td>2412.706798</td>\n",
       "      <td>2717.264674</td>\n",
       "      <td>53</td>\n",
       "      <td>172</td>\n",
       "      <td>86</td>\n",
       "      <td>42.0</td>\n",
       "      <td>11.8</td>\n",
       "    </tr>\n",
       "    <tr>\n",
       "      <th>0</th>\n",
       "      <td>0</td>\n",
       "      <td>328.920620</td>\n",
       "      <td>2336.225824</td>\n",
       "      <td>2543.783444</td>\n",
       "      <td>56</td>\n",
       "      <td>169</td>\n",
       "      <td>83</td>\n",
       "      <td>40.0</td>\n",
       "      <td>12.8</td>\n",
       "    </tr>\n",
       "    <tr>\n",
       "      <th>0</th>\n",
       "      <td>0</td>\n",
       "      <td>264.632903</td>\n",
       "      <td>2025.760431</td>\n",
       "      <td>2677.612399</td>\n",
       "      <td>71</td>\n",
       "      <td>177</td>\n",
       "      <td>82</td>\n",
       "      <td>43.0</td>\n",
       "      <td>8.4</td>\n",
       "    </tr>\n",
       "    <tr>\n",
       "      <th>0</th>\n",
       "      <td>0</td>\n",
       "      <td>326.909707</td>\n",
       "      <td>2062.385388</td>\n",
       "      <td>2728.799734</td>\n",
       "      <td>36</td>\n",
       "      <td>175</td>\n",
       "      <td>90</td>\n",
       "      <td>40.0</td>\n",
       "      <td>27.0</td>\n",
       "    </tr>\n",
       "    <tr>\n",
       "      <th>0</th>\n",
       "      <td>0</td>\n",
       "      <td>325.143804</td>\n",
       "      <td>2593.818208</td>\n",
       "      <td>2735.192163</td>\n",
       "      <td>62</td>\n",
       "      <td>172</td>\n",
       "      <td>80</td>\n",
       "      <td>42.0</td>\n",
       "      <td>14.8</td>\n",
       "    </tr>\n",
       "  </tbody>\n",
       "</table>\n",
       "</div>"
      ],
      "text/plain": [
       "   Gender          F1           F2           F3  age  height  weight  cervper  \\\n",
       "0       0  262.987463  2412.706798  2717.264674   53     172      86     42.0   \n",
       "0       0  328.920620  2336.225824  2543.783444   56     169      83     40.0   \n",
       "0       0  264.632903  2025.760431  2677.612399   71     177      82     43.0   \n",
       "0       0  326.909707  2062.385388  2728.799734   36     175      90     40.0   \n",
       "0       0  325.143804  2593.818208  2735.192163   62     172      80     42.0   \n",
       "\n",
       "    AHI  \n",
       "0  11.8  \n",
       "0  12.8  \n",
       "0   8.4  \n",
       "0  27.0  \n",
       "0  14.8  "
      ]
     },
     "execution_count": 11,
     "metadata": {},
     "output_type": "execute_result"
    }
   ],
   "source": [
    "df_OSA.head(5)"
   ]
  },
  {
   "cell_type": "code",
   "execution_count": 12,
   "metadata": {
    "collapsed": false
   },
   "outputs": [
    {
     "data": {
      "text/html": [
       "<div>\n",
       "<table border=\"1\" class=\"dataframe\">\n",
       "  <thead>\n",
       "    <tr style=\"text-align: right;\">\n",
       "      <th></th>\n",
       "      <th>Gender</th>\n",
       "      <th>F1</th>\n",
       "      <th>F2</th>\n",
       "      <th>F3</th>\n",
       "      <th>age</th>\n",
       "      <th>height</th>\n",
       "      <th>weight</th>\n",
       "      <th>cervper</th>\n",
       "      <th>AHI</th>\n",
       "    </tr>\n",
       "  </thead>\n",
       "  <tbody>\n",
       "    <tr>\n",
       "      <th>0</th>\n",
       "      <td>0</td>\n",
       "      <td>328.920620</td>\n",
       "      <td>2336.225824</td>\n",
       "      <td>2543.783444</td>\n",
       "      <td>56</td>\n",
       "      <td>169</td>\n",
       "      <td>83</td>\n",
       "      <td>40.0</td>\n",
       "      <td>12.8</td>\n",
       "    </tr>\n",
       "    <tr>\n",
       "      <th>0</th>\n",
       "      <td>0</td>\n",
       "      <td>264.632903</td>\n",
       "      <td>2025.760431</td>\n",
       "      <td>2677.612399</td>\n",
       "      <td>71</td>\n",
       "      <td>177</td>\n",
       "      <td>82</td>\n",
       "      <td>43.0</td>\n",
       "      <td>8.4</td>\n",
       "    </tr>\n",
       "  </tbody>\n",
       "</table>\n",
       "</div>"
      ],
      "text/plain": [
       "   Gender          F1           F2           F3  age  height  weight  cervper  \\\n",
       "0       0  328.920620  2336.225824  2543.783444   56     169      83     40.0   \n",
       "0       0  264.632903  2025.760431  2677.612399   71     177      82     43.0   \n",
       "\n",
       "    AHI  \n",
       "0  12.8  \n",
       "0   8.4  "
      ]
     },
     "execution_count": 12,
     "metadata": {},
     "output_type": "execute_result"
    }
   ],
   "source": [
    "df_OSA.iloc[1:3]"
   ]
  },
  {
   "cell_type": "markdown",
   "metadata": {},
   "source": [
    "### ... unique"
   ]
  },
  {
   "cell_type": "code",
   "execution_count": 13,
   "metadata": {
    "collapsed": false
   },
   "outputs": [
    {
     "name": "stdout",
     "output_type": "stream",
     "text": [
      "Gender categories :  [0 1]\n"
     ]
    }
   ],
   "source": [
    "Gender_categories=pd.unique(df_OSA['Gender'])\n",
    "print('Gender categories : ',Gender_categories)"
   ]
  },
  {
   "cell_type": "markdown",
   "metadata": {},
   "source": [
    "### ...simple stats..."
   ]
  },
  {
   "cell_type": "code",
   "execution_count": 14,
   "metadata": {
    "collapsed": false
   },
   "outputs": [
    {
     "data": {
      "text/plain": [
       "335.03427545031161"
      ]
     },
     "execution_count": 14,
     "metadata": {},
     "output_type": "execute_result"
    }
   ],
   "source": [
    "df_OSA['F1'].mean()"
   ]
  },
  {
   "cell_type": "code",
   "execution_count": 15,
   "metadata": {
    "collapsed": false
   },
   "outputs": [
    {
     "data": {
      "text/html": [
       "<div>\n",
       "<table border=\"1\" class=\"dataframe\">\n",
       "  <thead>\n",
       "    <tr style=\"text-align: right;\">\n",
       "      <th></th>\n",
       "      <th>Gender</th>\n",
       "      <th>F1</th>\n",
       "      <th>F2</th>\n",
       "      <th>F3</th>\n",
       "      <th>age</th>\n",
       "      <th>height</th>\n",
       "      <th>weight</th>\n",
       "      <th>cervper</th>\n",
       "      <th>AHI</th>\n",
       "    </tr>\n",
       "  </thead>\n",
       "  <tbody>\n",
       "    <tr>\n",
       "      <th>count</th>\n",
       "      <td>200.000000</td>\n",
       "      <td>200.000000</td>\n",
       "      <td>200.000000</td>\n",
       "      <td>200.000000</td>\n",
       "      <td>200.000000</td>\n",
       "      <td>200.00000</td>\n",
       "      <td>200.000000</td>\n",
       "      <td>200.000000</td>\n",
       "      <td>200.000000</td>\n",
       "    </tr>\n",
       "    <tr>\n",
       "      <th>mean</th>\n",
       "      <td>0.500000</td>\n",
       "      <td>335.034275</td>\n",
       "      <td>2407.317283</td>\n",
       "      <td>2944.663699</td>\n",
       "      <td>48.585000</td>\n",
       "      <td>167.73000</td>\n",
       "      <td>84.850000</td>\n",
       "      <td>39.992500</td>\n",
       "      <td>18.037300</td>\n",
       "    </tr>\n",
       "    <tr>\n",
       "      <th>std</th>\n",
       "      <td>0.501255</td>\n",
       "      <td>57.500418</td>\n",
       "      <td>263.866796</td>\n",
       "      <td>309.384639</td>\n",
       "      <td>11.992157</td>\n",
       "      <td>9.59832</td>\n",
       "      <td>18.645799</td>\n",
       "      <td>4.285208</td>\n",
       "      <td>18.386225</td>\n",
       "    </tr>\n",
       "    <tr>\n",
       "      <th>min</th>\n",
       "      <td>0.000000</td>\n",
       "      <td>229.408355</td>\n",
       "      <td>1957.722718</td>\n",
       "      <td>2344.363553</td>\n",
       "      <td>21.000000</td>\n",
       "      <td>144.00000</td>\n",
       "      <td>45.000000</td>\n",
       "      <td>32.000000</td>\n",
       "      <td>0.000000</td>\n",
       "    </tr>\n",
       "    <tr>\n",
       "      <th>25%</th>\n",
       "      <td>0.000000</td>\n",
       "      <td>290.778280</td>\n",
       "      <td>2192.254856</td>\n",
       "      <td>2707.116576</td>\n",
       "      <td>38.000000</td>\n",
       "      <td>160.00000</td>\n",
       "      <td>72.000000</td>\n",
       "      <td>37.000000</td>\n",
       "      <td>4.950000</td>\n",
       "    </tr>\n",
       "    <tr>\n",
       "      <th>50%</th>\n",
       "      <td>0.500000</td>\n",
       "      <td>328.955627</td>\n",
       "      <td>2369.782531</td>\n",
       "      <td>2913.284283</td>\n",
       "      <td>49.000000</td>\n",
       "      <td>168.00000</td>\n",
       "      <td>84.000000</td>\n",
       "      <td>40.000000</td>\n",
       "      <td>10.900000</td>\n",
       "    </tr>\n",
       "    <tr>\n",
       "      <th>75%</th>\n",
       "      <td>1.000000</td>\n",
       "      <td>371.287320</td>\n",
       "      <td>2628.083087</td>\n",
       "      <td>3141.232682</td>\n",
       "      <td>58.250000</td>\n",
       "      <td>175.00000</td>\n",
       "      <td>94.000000</td>\n",
       "      <td>43.000000</td>\n",
       "      <td>27.250000</td>\n",
       "    </tr>\n",
       "    <tr>\n",
       "      <th>max</th>\n",
       "      <td>1.000000</td>\n",
       "      <td>572.966605</td>\n",
       "      <td>3068.893500</td>\n",
       "      <td>3632.875259</td>\n",
       "      <td>80.000000</td>\n",
       "      <td>191.00000</td>\n",
       "      <td>165.000000</td>\n",
       "      <td>53.000000</td>\n",
       "      <td>108.400000</td>\n",
       "    </tr>\n",
       "  </tbody>\n",
       "</table>\n",
       "</div>"
      ],
      "text/plain": [
       "           Gender          F1           F2           F3         age  \\\n",
       "count  200.000000  200.000000   200.000000   200.000000  200.000000   \n",
       "mean     0.500000  335.034275  2407.317283  2944.663699   48.585000   \n",
       "std      0.501255   57.500418   263.866796   309.384639   11.992157   \n",
       "min      0.000000  229.408355  1957.722718  2344.363553   21.000000   \n",
       "25%      0.000000  290.778280  2192.254856  2707.116576   38.000000   \n",
       "50%      0.500000  328.955627  2369.782531  2913.284283   49.000000   \n",
       "75%      1.000000  371.287320  2628.083087  3141.232682   58.250000   \n",
       "max      1.000000  572.966605  3068.893500  3632.875259   80.000000   \n",
       "\n",
       "          height      weight     cervper         AHI  \n",
       "count  200.00000  200.000000  200.000000  200.000000  \n",
       "mean   167.73000   84.850000   39.992500   18.037300  \n",
       "std      9.59832   18.645799    4.285208   18.386225  \n",
       "min    144.00000   45.000000   32.000000    0.000000  \n",
       "25%    160.00000   72.000000   37.000000    4.950000  \n",
       "50%    168.00000   84.000000   40.000000   10.900000  \n",
       "75%    175.00000   94.000000   43.000000   27.250000  \n",
       "max    191.00000  165.000000   53.000000  108.400000  "
      ]
     },
     "execution_count": 15,
     "metadata": {},
     "output_type": "execute_result"
    }
   ],
   "source": [
    "df_OSA.describe()"
   ]
  },
  {
   "cell_type": "markdown",
   "metadata": {},
   "source": [
    "## $Groupby$\n",
    "### ... analyze data by category or group"
   ]
  },
  {
   "cell_type": "code",
   "execution_count": 17,
   "metadata": {
    "collapsed": false
   },
   "outputs": [
    {
     "data": {
      "text/html": [
       "<div>\n",
       "<table border=\"1\" class=\"dataframe\">\n",
       "  <thead>\n",
       "    <tr style=\"text-align: right;\">\n",
       "      <th></th>\n",
       "      <th></th>\n",
       "      <th>AHI</th>\n",
       "      <th>F1</th>\n",
       "      <th>F2</th>\n",
       "      <th>F3</th>\n",
       "      <th>age</th>\n",
       "      <th>cervper</th>\n",
       "      <th>height</th>\n",
       "      <th>weight</th>\n",
       "    </tr>\n",
       "    <tr>\n",
       "      <th>Gender</th>\n",
       "      <th></th>\n",
       "      <th></th>\n",
       "      <th></th>\n",
       "      <th></th>\n",
       "      <th></th>\n",
       "      <th></th>\n",
       "      <th></th>\n",
       "      <th></th>\n",
       "      <th></th>\n",
       "    </tr>\n",
       "  </thead>\n",
       "  <tbody>\n",
       "    <tr>\n",
       "      <th rowspan=\"8\" valign=\"top\">0</th>\n",
       "      <th>count</th>\n",
       "      <td>100.000000</td>\n",
       "      <td>100.000000</td>\n",
       "      <td>100.000000</td>\n",
       "      <td>100.000000</td>\n",
       "      <td>100.000000</td>\n",
       "      <td>100.000000</td>\n",
       "      <td>100.000000</td>\n",
       "      <td>100.000000</td>\n",
       "    </tr>\n",
       "    <tr>\n",
       "      <th>mean</th>\n",
       "      <td>21.625600</td>\n",
       "      <td>296.354811</td>\n",
       "      <td>2194.500933</td>\n",
       "      <td>2707.962719</td>\n",
       "      <td>46.420000</td>\n",
       "      <td>42.870000</td>\n",
       "      <td>174.870000</td>\n",
       "      <td>91.950000</td>\n",
       "    </tr>\n",
       "    <tr>\n",
       "      <th>std</th>\n",
       "      <td>18.319557</td>\n",
       "      <td>31.630671</td>\n",
       "      <td>140.550261</td>\n",
       "      <td>160.478348</td>\n",
       "      <td>12.150720</td>\n",
       "      <td>3.359458</td>\n",
       "      <td>6.622055</td>\n",
       "      <td>16.835733</td>\n",
       "    </tr>\n",
       "    <tr>\n",
       "      <th>min</th>\n",
       "      <td>0.000000</td>\n",
       "      <td>229.408355</td>\n",
       "      <td>1957.722718</td>\n",
       "      <td>2344.363553</td>\n",
       "      <td>21.000000</td>\n",
       "      <td>36.000000</td>\n",
       "      <td>159.000000</td>\n",
       "      <td>65.000000</td>\n",
       "    </tr>\n",
       "    <tr>\n",
       "      <th>25%</th>\n",
       "      <td>6.225000</td>\n",
       "      <td>271.519782</td>\n",
       "      <td>2092.134844</td>\n",
       "      <td>2583.951125</td>\n",
       "      <td>37.000000</td>\n",
       "      <td>41.000000</td>\n",
       "      <td>170.000000</td>\n",
       "      <td>80.000000</td>\n",
       "    </tr>\n",
       "    <tr>\n",
       "      <th>50%</th>\n",
       "      <td>16.250000</td>\n",
       "      <td>293.902531</td>\n",
       "      <td>2196.445786</td>\n",
       "      <td>2711.188795</td>\n",
       "      <td>44.000000</td>\n",
       "      <td>42.000000</td>\n",
       "      <td>174.500000</td>\n",
       "      <td>88.500000</td>\n",
       "    </tr>\n",
       "    <tr>\n",
       "      <th>75%</th>\n",
       "      <td>32.275000</td>\n",
       "      <td>320.567361</td>\n",
       "      <td>2283.089911</td>\n",
       "      <td>2836.403155</td>\n",
       "      <td>56.000000</td>\n",
       "      <td>45.000000</td>\n",
       "      <td>180.000000</td>\n",
       "      <td>100.250000</td>\n",
       "    </tr>\n",
       "    <tr>\n",
       "      <th>max</th>\n",
       "      <td>87.000000</td>\n",
       "      <td>371.860821</td>\n",
       "      <td>2676.094855</td>\n",
       "      <td>3055.267599</td>\n",
       "      <td>77.000000</td>\n",
       "      <td>53.000000</td>\n",
       "      <td>191.000000</td>\n",
       "      <td>161.000000</td>\n",
       "    </tr>\n",
       "    <tr>\n",
       "      <th rowspan=\"8\" valign=\"top\">1</th>\n",
       "      <th>count</th>\n",
       "      <td>100.000000</td>\n",
       "      <td>100.000000</td>\n",
       "      <td>100.000000</td>\n",
       "      <td>100.000000</td>\n",
       "      <td>100.000000</td>\n",
       "      <td>100.000000</td>\n",
       "      <td>100.000000</td>\n",
       "      <td>100.000000</td>\n",
       "    </tr>\n",
       "    <tr>\n",
       "      <th>mean</th>\n",
       "      <td>14.449000</td>\n",
       "      <td>373.713740</td>\n",
       "      <td>2620.133633</td>\n",
       "      <td>3181.364679</td>\n",
       "      <td>50.750000</td>\n",
       "      <td>37.115000</td>\n",
       "      <td>160.590000</td>\n",
       "      <td>77.750000</td>\n",
       "    </tr>\n",
       "    <tr>\n",
       "      <th>std</th>\n",
       "      <td>17.829838</td>\n",
       "      <td>51.215892</td>\n",
       "      <td>169.421732</td>\n",
       "      <td>231.224335</td>\n",
       "      <td>11.487697</td>\n",
       "      <td>2.982995</td>\n",
       "      <td>6.192363</td>\n",
       "      <td>17.707714</td>\n",
       "    </tr>\n",
       "    <tr>\n",
       "      <th>min</th>\n",
       "      <td>0.000000</td>\n",
       "      <td>253.547020</td>\n",
       "      <td>2169.332156</td>\n",
       "      <td>2665.638867</td>\n",
       "      <td>26.000000</td>\n",
       "      <td>32.000000</td>\n",
       "      <td>144.000000</td>\n",
       "      <td>45.000000</td>\n",
       "    </tr>\n",
       "    <tr>\n",
       "      <th>25%</th>\n",
       "      <td>3.775000</td>\n",
       "      <td>342.673131</td>\n",
       "      <td>2522.748771</td>\n",
       "      <td>2989.459888</td>\n",
       "      <td>40.750000</td>\n",
       "      <td>35.000000</td>\n",
       "      <td>156.000000</td>\n",
       "      <td>65.750000</td>\n",
       "    </tr>\n",
       "    <tr>\n",
       "      <th>50%</th>\n",
       "      <td>8.050000</td>\n",
       "      <td>370.785683</td>\n",
       "      <td>2627.661674</td>\n",
       "      <td>3142.448286</td>\n",
       "      <td>51.000000</td>\n",
       "      <td>37.000000</td>\n",
       "      <td>160.000000</td>\n",
       "      <td>73.500000</td>\n",
       "    </tr>\n",
       "    <tr>\n",
       "      <th>75%</th>\n",
       "      <td>19.425000</td>\n",
       "      <td>396.978666</td>\n",
       "      <td>2720.275862</td>\n",
       "      <td>3327.784328</td>\n",
       "      <td>60.000000</td>\n",
       "      <td>39.000000</td>\n",
       "      <td>165.000000</td>\n",
       "      <td>90.000000</td>\n",
       "    </tr>\n",
       "    <tr>\n",
       "      <th>max</th>\n",
       "      <td>108.400000</td>\n",
       "      <td>572.966605</td>\n",
       "      <td>3068.893500</td>\n",
       "      <td>3632.875259</td>\n",
       "      <td>80.000000</td>\n",
       "      <td>45.000000</td>\n",
       "      <td>179.000000</td>\n",
       "      <td>165.000000</td>\n",
       "    </tr>\n",
       "  </tbody>\n",
       "</table>\n",
       "</div>"
      ],
      "text/plain": [
       "                     AHI          F1           F2           F3         age  \\\n",
       "Gender                                                                       \n",
       "0      count  100.000000  100.000000   100.000000   100.000000  100.000000   \n",
       "       mean    21.625600  296.354811  2194.500933  2707.962719   46.420000   \n",
       "       std     18.319557   31.630671   140.550261   160.478348   12.150720   \n",
       "       min      0.000000  229.408355  1957.722718  2344.363553   21.000000   \n",
       "       25%      6.225000  271.519782  2092.134844  2583.951125   37.000000   \n",
       "       50%     16.250000  293.902531  2196.445786  2711.188795   44.000000   \n",
       "       75%     32.275000  320.567361  2283.089911  2836.403155   56.000000   \n",
       "       max     87.000000  371.860821  2676.094855  3055.267599   77.000000   \n",
       "1      count  100.000000  100.000000   100.000000   100.000000  100.000000   \n",
       "       mean    14.449000  373.713740  2620.133633  3181.364679   50.750000   \n",
       "       std     17.829838   51.215892   169.421732   231.224335   11.487697   \n",
       "       min      0.000000  253.547020  2169.332156  2665.638867   26.000000   \n",
       "       25%      3.775000  342.673131  2522.748771  2989.459888   40.750000   \n",
       "       50%      8.050000  370.785683  2627.661674  3142.448286   51.000000   \n",
       "       75%     19.425000  396.978666  2720.275862  3327.784328   60.000000   \n",
       "       max    108.400000  572.966605  3068.893500  3632.875259   80.000000   \n",
       "\n",
       "                 cervper      height      weight  \n",
       "Gender                                            \n",
       "0      count  100.000000  100.000000  100.000000  \n",
       "       mean    42.870000  174.870000   91.950000  \n",
       "       std      3.359458    6.622055   16.835733  \n",
       "       min     36.000000  159.000000   65.000000  \n",
       "       25%     41.000000  170.000000   80.000000  \n",
       "       50%     42.000000  174.500000   88.500000  \n",
       "       75%     45.000000  180.000000  100.250000  \n",
       "       max     53.000000  191.000000  161.000000  \n",
       "1      count  100.000000  100.000000  100.000000  \n",
       "       mean    37.115000  160.590000   77.750000  \n",
       "       std      2.982995    6.192363   17.707714  \n",
       "       min     32.000000  144.000000   45.000000  \n",
       "       25%     35.000000  156.000000   65.750000  \n",
       "       50%     37.000000  160.000000   73.500000  \n",
       "       75%     39.000000  165.000000   90.000000  \n",
       "       max     45.000000  179.000000  165.000000  "
      ]
     },
     "execution_count": 17,
     "metadata": {},
     "output_type": "execute_result"
    }
   ],
   "source": [
    "df_OSA.groupby('Gender').describe()"
   ]
  },
  {
   "cell_type": "code",
   "execution_count": null,
   "metadata": {
    "collapsed": false
   },
   "outputs": [],
   "source": [
    "F1=df_OSA['F1']\n",
    "F2=df_OSA['F2']"
   ]
  },
  {
   "cell_type": "code",
   "execution_count": null,
   "metadata": {
    "collapsed": false
   },
   "outputs": [],
   "source": [
    "type(F1)"
   ]
  },
  {
   "cell_type": "code",
   "execution_count": null,
   "metadata": {
    "collapsed": true
   },
   "outputs": [],
   "source": [
    "# convert F1 and F2 to arrays...\n",
    "\n"
   ]
  },
  {
   "cell_type": "code",
   "execution_count": null,
   "metadata": {
    "collapsed": false
   },
   "outputs": [],
   "source": [
    "type(F1)"
   ]
  },
  {
   "cell_type": "markdown",
   "metadata": {},
   "source": [
    "# MATPLOTLIB\n",
    "\n",
    "### [Matplotlib](https://matplotlib.org/#) is a Python 2D plotting library which produces publication quality figures in a variety of hardcopy formats and interactive environments across platforms\n",
    "\n",
    "<img src=\"https://matplotlib.org/_static/logo2.png\">"
   ]
  },
  {
   "cell_type": "code",
   "execution_count": null,
   "metadata": {
    "collapsed": false
   },
   "outputs": [],
   "source": [
    "import matplotlib.pyplot as plt\n",
    "%matplotlib inline"
   ]
  },
  {
   "cell_type": "code",
   "execution_count": null,
   "metadata": {
    "collapsed": false
   },
   "outputs": [],
   "source": [
    "# Scatter plot\n",
    "plt.figure(figsize=(9,6))\n",
    "plt.scatter(F1,F2)\n",
    "plt.xlabel('F1',fontsize=18)\n",
    "plt.ylabel('F2',fontsize=18)\n",
    "plt.title('First and Second Formantas in OSA Patientes',fontsize=18)\n",
    "plt.grid(color='k', linestyle='--')"
   ]
  },
  {
   "cell_type": "code",
   "execution_count": null,
   "metadata": {
    "collapsed": true
   },
   "outputs": [],
   "source": []
  }
 ],
 "metadata": {
  "kernelspec": {
   "display_name": "Python 3",
   "language": "python",
   "name": "python3"
  },
  "language_info": {
   "codemirror_mode": {
    "name": "ipython",
    "version": 3
   },
   "file_extension": ".py",
   "mimetype": "text/x-python",
   "name": "python",
   "nbconvert_exporter": "python",
   "pygments_lexer": "ipython3",
   "version": "3.5.2"
  },
  "widgets": {
   "state": {},
   "version": "1.1.2"
  }
 },
 "nbformat": 4,
 "nbformat_minor": 0
}
