{
 "cells": [
  {
   "cell_type": "markdown",
   "metadata": {},
   "source": [
    "# How To Create a Python Dictionary\n",
    "\n",
    "       Most important features by which you can recognize a dictionary are the curly brackets { } and for each item in the dictionary,the separation of the key and value by a colon :."
   ]
  },
  {
   "cell_type": "code",
   "execution_count": 1,
   "metadata": {
    "collapsed": false
   },
   "outputs": [
    {
     "name": "stdout",
     "output_type": "stream",
     "text": [
      "4\n",
      "True\n"
     ]
    }
   ],
   "source": [
    "fruit = {\"apple\" : 5, \"pear\" : 3, \"banana\" : 4, \"pineapple\" : 1, \"cherry\" : 20}\n",
    "\n",
    "# Access the `fruit` dictionary directly (without using get) and print the value of \"banana\"\n",
    "print(fruit[\"banana\"])\n",
    "\n",
    "# Pick one of 5 the fruits and show that both retrieval styles obtain equal results\n",
    "print(fruit[\"cherry\"] == fruit.get(\"cherry\"))"
   ]
  },
  {
   "cell_type": "markdown",
   "metadata": {},
   "source": [
    "# Loading Data In Your Python Dictionary\n",
    "\n",
    "- ### The data used are the reviews of Donna Tarttâ€™s The Goldfinch in the Amazon book review set from the Irivine Machine Learning Repository. These reviews have been stored in a simple tab separated file, which is nothing more than a plain text file with columns.\n",
    "\n",
    "- ### The table contains four columns: <font color=magenta>review score, url, review title and review text.</font>\n",
    "\n",
    "- ### There are several ways imaginable to put this into a dictionary, but in this case,you take the url as the dictionary keys and put the other columns in the nested values dictionary."
   ]
  },
  {
   "cell_type": "code",
   "execution_count": 3,
   "metadata": {
    "collapsed": true
   },
   "outputs": [],
   "source": [
    "import urllib\n",
    "import random\n",
    "\n",
    "# Load the data from remote location (URL)\n",
    "file = urllib.request.urlopen( \\\n",
    "    \"https://gist.githubusercontent.com/twielfaert/a0972bf366d9aaf6cb1206c16bf93731/raw/dde46ad1fa41f442971726f34ad03aaac85f5414/Donna-Tartt-The-Goldfinch.csv\")\n",
    "f = file.read()"
   ]
  },
  {
   "cell_type": "code",
   "execution_count": 5,
   "metadata": {
    "collapsed": true
   },
   "outputs": [],
   "source": [
    "# Transform the bitstream into strings\n",
    "text = f.decode(encoding='utf-8', errors='ignore')"
   ]
  },
  {
   "cell_type": "code",
   "execution_count": 8,
   "metadata": {
    "collapsed": false
   },
   "outputs": [
    {
     "data": {
      "text/plain": [
       "9688697"
      ]
     },
     "execution_count": 8,
     "metadata": {},
     "output_type": "execute_result"
    }
   ],
   "source": [
    "len(text)"
   ]
  },
  {
   "cell_type": "code",
   "execution_count": 9,
   "metadata": {
    "collapsed": true
   },
   "outputs": [],
   "source": [
    "# Split this single string at the end of lines\n",
    "lines = text.split(\"\\n\")"
   ]
  },
  {
   "cell_type": "code",
   "execution_count": 10,
   "metadata": {
    "collapsed": false
   },
   "outputs": [
    {
     "data": {
      "text/plain": [
       "22861"
      ]
     },
     "execution_count": 10,
     "metadata": {},
     "output_type": "execute_result"
    }
   ],
   "source": [
    "len(lines)"
   ]
  },
  {
   "cell_type": "code",
   "execution_count": 12,
   "metadata": {
    "collapsed": false
   },
   "outputs": [
    {
     "data": {
      "text/plain": [
       "'5.0\\t/gp/customer-reviews/R20Q73A83CLX8E?ASIN=0316055441\\tSeveral GREAT novellas in one very long book!\\t\"<span class=\"\"a-size-base review-text\"\">I won\\'t go into the plot since everyone will know it. My concern whenever I\\'m given or purchase a very long book is, \"\"Will it keep me engaged?\"\" and is it worth the weeks it will take me to finish it?\"\"<br/><br/>The answer with THE GOLDFINCH is \"\"Yes!\"\" and \"\"Sorta!\"\"<br/><br/>To me, the book is divided into sections or novellas--the explosion, living with the wealthy family, moving to Vegas, etc.<br/><br/>The brilliant opening section immediately kept me engaged--I think the explosion and Theo\\'s experience and recovery is some of the best writing I\\'ve read in years.<br/><br/>The family he moves in with may remind you of THE ROYAL TENENBAUMS or Salinger\\'s Glass family. They are funny, a bit tragic and sort of odd. The father especially--something about his behavior seemed a bit \"\"off\"\" as did his wild dialogue; it didn\\'t seem at all \"\"real\"\" in a novel that\\'s very grounded in reality. (It\\'s revealed later why he behaves this way.)<br/><br/>The next--and for me, strongest novella--takes place in Las Vegas where we \"\"live\"\" with Theo\\'s father and girlfriend. The writing is vivid, the characters and plot really move along and it\\'s all terrific.<br/><br/>And then, for me, THE GOLDFINCH seems to stall a bit and slightly loses its way. This painting that Theo carries with him seems to be forgotten about and then every 100 pages or so is mentioned again (not that we care.)<br/><br/>There\\'s a novella about dealing in art (collection and deception) and our hero takes a downward turn, but I found myself losing interest and by page 600 was growing impatient for it to end...or for the plot to kick in again as it did in the first few sections.<br/><br/>The great thing about this book is that you can set it aside for a few days and pick it up again and not be \"\"lost\"\"--the writing and characters are that strong. The \"\"plot\"\" on the other hand seems to grow thinner and less important as you head down the last 200 plus pages as \"\"big issues\"\" are thoughtfully woven in.<br/><br/>I\\'m sure this will receive many 4 and 5 star ratings, but I\\'m giving it a very good solid 3 since, unfortunately, it seemed to run out of gas toward the end. But those first 600 pages -- great, great stuff!</span>\"'"
      ]
     },
     "execution_count": 12,
     "metadata": {},
     "output_type": "execute_result"
    }
   ],
   "source": [
    "lines[0]"
   ]
  },
  {
   "cell_type": "code",
   "execution_count": 13,
   "metadata": {
    "collapsed": false
   },
   "outputs": [
    {
     "data": {
      "text/plain": [
       "['5.0',\n",
       " '/gp/customer-reviews/R20Q73A83CLX8E?ASIN=0316055441',\n",
       " 'Several GREAT novellas in one very long book!',\n",
       " '\"<span class=\"\"a-size-base review-text\"\">I won\\'t go into the plot since everyone will know it. My concern whenever I\\'m given or purchase a very long book is, \"\"Will it keep me engaged?\"\" and is it worth the weeks it will take me to finish it?\"\"<br/><br/>The answer with THE GOLDFINCH is \"\"Yes!\"\" and \"\"Sorta!\"\"<br/><br/>To me, the book is divided into sections or novellas--the explosion, living with the wealthy family, moving to Vegas, etc.<br/><br/>The brilliant opening section immediately kept me engaged--I think the explosion and Theo\\'s experience and recovery is some of the best writing I\\'ve read in years.<br/><br/>The family he moves in with may remind you of THE ROYAL TENENBAUMS or Salinger\\'s Glass family. They are funny, a bit tragic and sort of odd. The father especially--something about his behavior seemed a bit \"\"off\"\" as did his wild dialogue; it didn\\'t seem at all \"\"real\"\" in a novel that\\'s very grounded in reality. (It\\'s revealed later why he behaves this way.)<br/><br/>The next--and for me, strongest novella--takes place in Las Vegas where we \"\"live\"\" with Theo\\'s father and girlfriend. The writing is vivid, the characters and plot really move along and it\\'s all terrific.<br/><br/>And then, for me, THE GOLDFINCH seems to stall a bit and slightly loses its way. This painting that Theo carries with him seems to be forgotten about and then every 100 pages or so is mentioned again (not that we care.)<br/><br/>There\\'s a novella about dealing in art (collection and deception) and our hero takes a downward turn, but I found myself losing interest and by page 600 was growing impatient for it to end...or for the plot to kick in again as it did in the first few sections.<br/><br/>The great thing about this book is that you can set it aside for a few days and pick it up again and not be \"\"lost\"\"--the writing and characters are that strong. The \"\"plot\"\" on the other hand seems to grow thinner and less important as you head down the last 200 plus pages as \"\"big issues\"\" are thoughtfully woven in.<br/><br/>I\\'m sure this will receive many 4 and 5 star ratings, but I\\'m giving it a very good solid 3 since, unfortunately, it seemed to run out of gas toward the end. But those first 600 pages -- great, great stuff!</span>\"']"
      ]
     },
     "execution_count": 13,
     "metadata": {},
     "output_type": "execute_result"
    }
   ],
   "source": [
    "lines[0].strip().split(\"\\t\")"
   ]
  },
  {
   "cell_type": "code",
   "execution_count": 14,
   "metadata": {
    "collapsed": false
   },
   "outputs": [
    {
     "name": "stdout",
     "output_type": "stream",
     "text": [
      "{'review': '\"<span class=\"\"a-size-base review-text\"\">Good, but not really my cup of tea. Complex characters, to say the least, and a captivating plot, but I was left disappointed.</span>\"', 'score': '5.0', 'title': 'interesting but...'}\n"
     ]
    }
   ],
   "source": [
    "# Initalising the dictionary\n",
    "reviews = {}\n",
    "\n",
    "# Filling the dictionary\n",
    "for line in lines:\n",
    "    l = line.strip().split(\"\\t\")\n",
    "\n",
    "    # These are just training wheels to see more clearly what goes into the dictionary\n",
    "    score = l[0]\n",
    "    id = l[1]\n",
    "    title = l[2]\n",
    "    review = l[3]\n",
    "\n",
    "\n",
    "    # NOTICE: each dict entry is also a DICT !!\n",
    "\n",
    "    reviews[id] = {\"score\": score, \"title\": title, \"review\": review}\n",
    "\n",
    "# Take a random key from the dictionary and print its value\n",
    "print(reviews[random.choice(list(reviews.keys()))])"
   ]
  },
  {
   "cell_type": "code",
   "execution_count": null,
   "metadata": {
    "collapsed": false
   },
   "outputs": [],
   "source": [
    "reviews.keys()"
   ]
  },
  {
   "cell_type": "markdown",
   "metadata": {},
   "source": [
    "## MISSING VALUES !!!"
   ]
  },
  {
   "cell_type": "code",
   "execution_count": null,
   "metadata": {
    "collapsed": true
   },
   "outputs": [],
   "source": [
    "# Counting the number of lines in the file\n",
    "print(\"Number of lines: \" + str(len(lines)))\n",
    "\n",
    "# Counting the keys in the dictionary; should equal the number of lines in the file\n",
    "print(\"Number of dictionary keys: \" + str(len(reviews.keys())))"
   ]
  },
  {
   "cell_type": "markdown",
   "metadata": {},
   "source": [
    "## How To Filter a Dictionary in Python\n",
    "\n",
    "- ### Letâ€™s say you are interested in the bad reviews and want to see what people actually wrote by selecting only the reviews that score 1.0\n",
    "\n",
    "\n",
    "- ### Python dictionary items not only have both a key and a value, but they also have a special iterator to loop over them. Instead of for item in dictionary, you need to use for key, value in dictionary.items()"
   ]
  },
  {
   "cell_type": "code",
   "execution_count": null,
   "metadata": {
    "collapsed": false
   },
   "outputs": [],
   "source": [
    "# Store review keys with low score (1.0) in list\n",
    "lowscores = []\n",
    "for key, value in reviews.items():\n",
    "  if float(value[\"score\"]) == 1.0: # Convert score to float\n",
    "    lowscores.append(key)\n",
    "\n",
    "# Print all the entries with a low review score\n",
    "for item in lowscores:\n",
    "  print(reviews[item])"
   ]
  },
  {
   "cell_type": "markdown",
   "metadata": {},
   "source": [
    "## Python Dictionary Operations\n",
    "\n",
    "- ### EXTRACTING a subset you use the keys stored in lowscores to create the new dictionary.\n",
    "- ### There are two options for this: one just retrieves the relevant items from the original dictionary with the .get() method leaving the original intact, the other uses .pop() which does remove it permanently from the original dictionary."
   ]
  },
  {
   "cell_type": "code",
   "execution_count": 21,
   "metadata": {
    "collapsed": false
   },
   "outputs": [
    {
     "name": "stdout",
     "output_type": "stream",
     "text": [
      "True\n"
     ]
    }
   ],
   "source": [
    "  # for-loop style to subset a dictionary\n",
    "  forloop = {}\n",
    "  for k in lowscores:\n",
    "      forloop[k] = reviews[k]\n",
    "\n",
    "  # List comprehension to get a subset dictionary. Alternatively you can use `.pop` instead of `.get`\n",
    "  dictcomp = {k: reviews.get(k) for k in lowscores}\n",
    "\n",
    "  # Verify that these objects are equal\n",
    "  print(forloop == dictcomp)\n",
    "\n",
    " "
   ]
  },
  {
   "cell_type": "code",
   "execution_count": null,
   "metadata": {
    "collapsed": true
   },
   "outputs": [],
   "source": [
    "###### How To Sort Dictionaries in Python\n",
    "\n",
    "### Very simple NLP frequency of words in bad reviews\n",
    "# If you are interested in the words that go hand in hand with a negative sentiment about the novel,\n",
    "#  you could do a low-level form of sentiment analysis by making a frequency list of the words in the\n",
    "# negative reviews (scored 1.0).\n",
    "\n",
    "# Regular Expressions\n",
    "# You need to process the review text a little bit by removing the HTML-tags and converting uppercase words\n",
    "# to lowercase. For the first we use a regular expression which removes all tags: re.sub(\"<.*?>\", \"\").\n",
    "\n"
   ]
  },
  {
   "cell_type": "markdown",
   "metadata": {},
   "source": [
    "# defaultdict\n",
    "### you build the frequency dictionary using a defaultdict instead of a normal dictionary.\n",
    "### This guarantees that each â€œkeyâ€ is already intialized and you can just increase the frequency count with 1.\n",
    "\n",
    "### If you were not using defaultdict, Python would raise an error when you try to increase the count for the\n",
    "### first time (so from 0 to 1) because the key does not yet exist."
   ]
  },
  {
   "cell_type": "code",
   "execution_count": 4,
   "metadata": {
    "collapsed": false
   },
   "outputs": [
    {
     "ename": "NameError",
     "evalue": "name 'text' is not defined",
     "output_type": "error",
     "traceback": [
      "\u001b[0;31m---------------------------------------------------------------------------\u001b[0m",
      "\u001b[0;31mNameError\u001b[0m                                 Traceback (most recent call last)",
      "\u001b[0;32m<ipython-input-4-f5af84bcf9a0>\u001b[0m in \u001b[0;36m<module>\u001b[0;34m()\u001b[0m\n\u001b[1;32m      1\u001b[0m \u001b[0;31m# Split this single string at the end of lines\u001b[0m\u001b[0;34m\u001b[0m\u001b[0;34m\u001b[0m\u001b[0m\n\u001b[0;32m----> 2\u001b[0;31m \u001b[0mlines\u001b[0m \u001b[0;34m=\u001b[0m \u001b[0mtext\u001b[0m\u001b[0;34m.\u001b[0m\u001b[0msplit\u001b[0m\u001b[0;34m(\u001b[0m\u001b[0;34m\"\\n\"\u001b[0m\u001b[0;34m)\u001b[0m\u001b[0;34m\u001b[0m\u001b[0m\n\u001b[0m\u001b[1;32m      3\u001b[0m \u001b[0;34m\u001b[0m\u001b[0m\n\u001b[1;32m      4\u001b[0m \u001b[0;31m# Initalising the dictionary\u001b[0m\u001b[0;34m\u001b[0m\u001b[0;34m\u001b[0m\u001b[0m\n\u001b[1;32m      5\u001b[0m \u001b[0mreviews\u001b[0m \u001b[0;34m=\u001b[0m \u001b[0;34m{\u001b[0m\u001b[0;34m}\u001b[0m\u001b[0;34m\u001b[0m\u001b[0m\n",
      "\u001b[0;31mNameError\u001b[0m: name 'text' is not defined"
     ]
    }
   ],
   "source": [
    "from collections import defaultdict\n",
    "import re\n",
    "# Import defaultdict\n",
    "from collections import defaultdict\n",
    "\n",
    "freqdict = defaultdict(int)\n",
    "for item in lowscores:\n",
    "    review = reviews[item][\"review\"]\n",
    "    cleantext = re.sub(r'<.*?>', '',\n",
    "                       review).strip().split()  # Remove HTML tags and split the review by word (space separated)\n",
    "    for word in cleantext:\n",
    "        # Convert to all lowercase\n",
    "        word = word.lower()\n",
    "\n",
    "        # Complete the following line to increase the count by one:\n",
    "        freqdict[word] += 1\n",
    "\n",
    "print(freqdict)\n",
    "\n",
    "# Once the frequency dictionary is ready, you still need to sort the keys by value in descending order to\n",
    "#  see promptly which words are highly frequent.\n",
    "#  As normal dictionaries (including defaultdict can not be ordered by design), you need another class,\n",
    "#  namely OrderedDict.\n",
    "\n",
    "### The sorted function takes 3 arguments.\n",
    "\n",
    "# FIRST: The first one is the object that you want to sort, your\n",
    "# frequency dictionary. Remember however that accessing the key-value pairs in a dictionary is\n",
    "#  only possible through the .items() function!\n",
    "\n",
    "# SECOND\n",
    "# the second argument specifies what part of the first argument should be used to sort: key=lambda item: item[1]\n",
    "#  lambda function is an anonymous function, meaning it is a function without a name and can not be called from outside.\n",
    "# In this case, it simply uses the dictionary value (item[1], with item[0] being the key) as the argument for sorting.\n",
    "\n",
    "\n",
    "# THIRD\n",
    "# The third and final argument, reverse, specifies whether sorting should be ascending (the default) or descending.\n",
    "# In this case, you want to see the most frequent words at the top and need to specify explicitly that reverse=True.\n",
    "\n",
    "from collections import OrderedDict\n",
    "\n",
    "# Create Ordered dictionary\n",
    "ordict = OrderedDict(sorted(freqdict.items(), key=lambda item: item[1], reverse=True))\n",
    "\n",
    "# Ignore top 10%\n",
    "top10 = int(len(ordict.keys())/10)\n",
    "\n",
    "# Print 100 words of the top 90%\n",
    "print(list(ordict.items())[top10:top10+100])"
   ]
  },
  {
   "cell_type": "code",
   "execution_count": null,
   "metadata": {
    "collapsed": true
   },
   "outputs": [],
   "source": []
  },
  {
   "cell_type": "code",
   "execution_count": null,
   "metadata": {
    "collapsed": true
   },
   "outputs": [],
   "source": []
  }
 ],
 "metadata": {
  "kernelspec": {
   "display_name": "Python 3",
   "language": "python",
   "name": "python3"
  },
  "language_info": {
   "codemirror_mode": {
    "name": "ipython",
    "version": 3
   },
   "file_extension": ".py",
   "mimetype": "text/x-python",
   "name": "python",
   "nbconvert_exporter": "python",
   "pygments_lexer": "ipython3",
   "version": "3.5.2"
  },
  "widgets": {
   "state": {},
   "version": "1.1.2"
  }
 },
 "nbformat": 4,
 "nbformat_minor": 0
}
